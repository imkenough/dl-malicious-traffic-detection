{
 "cells": [
  {
   "cell_type": "code",
   "execution_count": 1,
   "id": "2defa78f",
   "metadata": {
    "execution": {
     "iopub.execute_input": "2024-11-25T13:42:29.198658Z",
     "iopub.status.busy": "2024-11-25T13:42:29.197873Z",
     "iopub.status.idle": "2024-11-25T13:42:33.328020Z",
     "shell.execute_reply": "2024-11-25T13:42:33.327229Z"
    },
    "papermill": {
     "duration": 4.140363,
     "end_time": "2024-11-25T13:42:33.330007",
     "exception": false,
     "start_time": "2024-11-25T13:42:29.189644",
     "status": "completed"
    },
    "tags": []
   },
   "outputs": [],
   "source": [
    "import os\n",
    "import glob\n",
    "import pandas as pd\n",
    "import numpy as np\n",
    "import matplotlib.pyplot as plt\n",
    "\n",
    "from sklearn.preprocessing import LabelEncoder, OneHotEncoder\n",
    "from imblearn.under_sampling import RandomUnderSampler\n",
    "from imblearn.over_sampling import SMOTE"
   ]
  },
  {
   "cell_type": "code",
   "execution_count": 2,
   "id": "99b6c763",
   "metadata": {
    "execution": {
     "iopub.execute_input": "2024-11-25T13:42:33.345049Z",
     "iopub.status.busy": "2024-11-25T13:42:33.344674Z",
     "iopub.status.idle": "2024-11-25T13:42:45.609965Z",
     "shell.execute_reply": "2024-11-25T13:42:45.609059Z"
    },
    "papermill": {
     "duration": 12.274133,
     "end_time": "2024-11-25T13:42:45.611875",
     "exception": false,
     "start_time": "2024-11-25T13:42:33.337742",
     "status": "completed"
    },
    "tags": []
   },
   "outputs": [
    {
     "data": {
      "text/html": [
       "<div>\n",
       "<style scoped>\n",
       "    .dataframe tbody tr th:only-of-type {\n",
       "        vertical-align: middle;\n",
       "    }\n",
       "\n",
       "    .dataframe tbody tr th {\n",
       "        vertical-align: top;\n",
       "    }\n",
       "\n",
       "    .dataframe thead th {\n",
       "        text-align: right;\n",
       "    }\n",
       "</style>\n",
       "<table border=\"1\" class=\"dataframe\">\n",
       "  <thead>\n",
       "    <tr style=\"text-align: right;\">\n",
       "      <th></th>\n",
       "      <th>Destination Port</th>\n",
       "      <th>Flow Duration</th>\n",
       "      <th>Total Fwd Packets</th>\n",
       "      <th>Total Backward Packets</th>\n",
       "      <th>Total Length of Fwd Packets</th>\n",
       "      <th>Total Length of Bwd Packets</th>\n",
       "      <th>Fwd Packet Length Max</th>\n",
       "      <th>Fwd Packet Length Min</th>\n",
       "      <th>Fwd Packet Length Mean</th>\n",
       "      <th>Fwd Packet Length Std</th>\n",
       "      <th>...</th>\n",
       "      <th>min_seg_size_forward</th>\n",
       "      <th>Active Mean</th>\n",
       "      <th>Active Std</th>\n",
       "      <th>Active Max</th>\n",
       "      <th>Active Min</th>\n",
       "      <th>Idle Mean</th>\n",
       "      <th>Idle Std</th>\n",
       "      <th>Idle Max</th>\n",
       "      <th>Idle Min</th>\n",
       "      <th>Label</th>\n",
       "    </tr>\n",
       "  </thead>\n",
       "  <tbody>\n",
       "    <tr>\n",
       "      <th>0</th>\n",
       "      <td>54865</td>\n",
       "      <td>3</td>\n",
       "      <td>2</td>\n",
       "      <td>0</td>\n",
       "      <td>12</td>\n",
       "      <td>0</td>\n",
       "      <td>6</td>\n",
       "      <td>6</td>\n",
       "      <td>6.0</td>\n",
       "      <td>0.00000</td>\n",
       "      <td>...</td>\n",
       "      <td>20</td>\n",
       "      <td>0.0</td>\n",
       "      <td>0.0</td>\n",
       "      <td>0</td>\n",
       "      <td>0</td>\n",
       "      <td>0.0</td>\n",
       "      <td>0.0</td>\n",
       "      <td>0</td>\n",
       "      <td>0</td>\n",
       "      <td>BENIGN</td>\n",
       "    </tr>\n",
       "    <tr>\n",
       "      <th>1</th>\n",
       "      <td>55054</td>\n",
       "      <td>109</td>\n",
       "      <td>1</td>\n",
       "      <td>1</td>\n",
       "      <td>6</td>\n",
       "      <td>6</td>\n",
       "      <td>6</td>\n",
       "      <td>6</td>\n",
       "      <td>6.0</td>\n",
       "      <td>0.00000</td>\n",
       "      <td>...</td>\n",
       "      <td>20</td>\n",
       "      <td>0.0</td>\n",
       "      <td>0.0</td>\n",
       "      <td>0</td>\n",
       "      <td>0</td>\n",
       "      <td>0.0</td>\n",
       "      <td>0.0</td>\n",
       "      <td>0</td>\n",
       "      <td>0</td>\n",
       "      <td>BENIGN</td>\n",
       "    </tr>\n",
       "    <tr>\n",
       "      <th>2</th>\n",
       "      <td>55055</td>\n",
       "      <td>52</td>\n",
       "      <td>1</td>\n",
       "      <td>1</td>\n",
       "      <td>6</td>\n",
       "      <td>6</td>\n",
       "      <td>6</td>\n",
       "      <td>6</td>\n",
       "      <td>6.0</td>\n",
       "      <td>0.00000</td>\n",
       "      <td>...</td>\n",
       "      <td>20</td>\n",
       "      <td>0.0</td>\n",
       "      <td>0.0</td>\n",
       "      <td>0</td>\n",
       "      <td>0</td>\n",
       "      <td>0.0</td>\n",
       "      <td>0.0</td>\n",
       "      <td>0</td>\n",
       "      <td>0</td>\n",
       "      <td>BENIGN</td>\n",
       "    </tr>\n",
       "    <tr>\n",
       "      <th>3</th>\n",
       "      <td>46236</td>\n",
       "      <td>34</td>\n",
       "      <td>1</td>\n",
       "      <td>1</td>\n",
       "      <td>6</td>\n",
       "      <td>6</td>\n",
       "      <td>6</td>\n",
       "      <td>6</td>\n",
       "      <td>6.0</td>\n",
       "      <td>0.00000</td>\n",
       "      <td>...</td>\n",
       "      <td>20</td>\n",
       "      <td>0.0</td>\n",
       "      <td>0.0</td>\n",
       "      <td>0</td>\n",
       "      <td>0</td>\n",
       "      <td>0.0</td>\n",
       "      <td>0.0</td>\n",
       "      <td>0</td>\n",
       "      <td>0</td>\n",
       "      <td>BENIGN</td>\n",
       "    </tr>\n",
       "    <tr>\n",
       "      <th>4</th>\n",
       "      <td>54863</td>\n",
       "      <td>3</td>\n",
       "      <td>2</td>\n",
       "      <td>0</td>\n",
       "      <td>12</td>\n",
       "      <td>0</td>\n",
       "      <td>6</td>\n",
       "      <td>6</td>\n",
       "      <td>6.0</td>\n",
       "      <td>0.00000</td>\n",
       "      <td>...</td>\n",
       "      <td>20</td>\n",
       "      <td>0.0</td>\n",
       "      <td>0.0</td>\n",
       "      <td>0</td>\n",
       "      <td>0</td>\n",
       "      <td>0.0</td>\n",
       "      <td>0.0</td>\n",
       "      <td>0</td>\n",
       "      <td>0</td>\n",
       "      <td>BENIGN</td>\n",
       "    </tr>\n",
       "    <tr>\n",
       "      <th>...</th>\n",
       "      <td>...</td>\n",
       "      <td>...</td>\n",
       "      <td>...</td>\n",
       "      <td>...</td>\n",
       "      <td>...</td>\n",
       "      <td>...</td>\n",
       "      <td>...</td>\n",
       "      <td>...</td>\n",
       "      <td>...</td>\n",
       "      <td>...</td>\n",
       "      <td>...</td>\n",
       "      <td>...</td>\n",
       "      <td>...</td>\n",
       "      <td>...</td>\n",
       "      <td>...</td>\n",
       "      <td>...</td>\n",
       "      <td>...</td>\n",
       "      <td>...</td>\n",
       "      <td>...</td>\n",
       "      <td>...</td>\n",
       "      <td>...</td>\n",
       "    </tr>\n",
       "    <tr>\n",
       "      <th>1042552</th>\n",
       "      <td>53</td>\n",
       "      <td>32215</td>\n",
       "      <td>4</td>\n",
       "      <td>2</td>\n",
       "      <td>112</td>\n",
       "      <td>152</td>\n",
       "      <td>28</td>\n",
       "      <td>28</td>\n",
       "      <td>28.0</td>\n",
       "      <td>0.00000</td>\n",
       "      <td>...</td>\n",
       "      <td>20</td>\n",
       "      <td>0.0</td>\n",
       "      <td>0.0</td>\n",
       "      <td>0</td>\n",
       "      <td>0</td>\n",
       "      <td>0.0</td>\n",
       "      <td>0.0</td>\n",
       "      <td>0</td>\n",
       "      <td>0</td>\n",
       "      <td>BENIGN</td>\n",
       "    </tr>\n",
       "    <tr>\n",
       "      <th>1042553</th>\n",
       "      <td>53</td>\n",
       "      <td>324</td>\n",
       "      <td>2</td>\n",
       "      <td>2</td>\n",
       "      <td>84</td>\n",
       "      <td>362</td>\n",
       "      <td>42</td>\n",
       "      <td>42</td>\n",
       "      <td>42.0</td>\n",
       "      <td>0.00000</td>\n",
       "      <td>...</td>\n",
       "      <td>20</td>\n",
       "      <td>0.0</td>\n",
       "      <td>0.0</td>\n",
       "      <td>0</td>\n",
       "      <td>0</td>\n",
       "      <td>0.0</td>\n",
       "      <td>0.0</td>\n",
       "      <td>0</td>\n",
       "      <td>0</td>\n",
       "      <td>BENIGN</td>\n",
       "    </tr>\n",
       "    <tr>\n",
       "      <th>1042554</th>\n",
       "      <td>58030</td>\n",
       "      <td>82</td>\n",
       "      <td>2</td>\n",
       "      <td>1</td>\n",
       "      <td>31</td>\n",
       "      <td>6</td>\n",
       "      <td>31</td>\n",
       "      <td>0</td>\n",
       "      <td>15.5</td>\n",
       "      <td>21.92031</td>\n",
       "      <td>...</td>\n",
       "      <td>32</td>\n",
       "      <td>0.0</td>\n",
       "      <td>0.0</td>\n",
       "      <td>0</td>\n",
       "      <td>0</td>\n",
       "      <td>0.0</td>\n",
       "      <td>0.0</td>\n",
       "      <td>0</td>\n",
       "      <td>0</td>\n",
       "      <td>BENIGN</td>\n",
       "    </tr>\n",
       "    <tr>\n",
       "      <th>1042555</th>\n",
       "      <td>53</td>\n",
       "      <td>1048635</td>\n",
       "      <td>6</td>\n",
       "      <td>2</td>\n",
       "      <td>192</td>\n",
       "      <td>256</td>\n",
       "      <td>32</td>\n",
       "      <td>32</td>\n",
       "      <td>32.0</td>\n",
       "      <td>0.00000</td>\n",
       "      <td>...</td>\n",
       "      <td>20</td>\n",
       "      <td>0.0</td>\n",
       "      <td>0.0</td>\n",
       "      <td>0</td>\n",
       "      <td>0</td>\n",
       "      <td>0.0</td>\n",
       "      <td>0.0</td>\n",
       "      <td>0</td>\n",
       "      <td>0</td>\n",
       "      <td>BENIGN</td>\n",
       "    </tr>\n",
       "    <tr>\n",
       "      <th>1042556</th>\n",
       "      <td>53</td>\n",
       "      <td>94939</td>\n",
       "      <td>4</td>\n",
       "      <td>2</td>\n",
       "      <td>188</td>\n",
       "      <td>226</td>\n",
       "      <td>47</td>\n",
       "      <td>47</td>\n",
       "      <td>47.0</td>\n",
       "      <td>0.00000</td>\n",
       "      <td>...</td>\n",
       "      <td>20</td>\n",
       "      <td>0.0</td>\n",
       "      <td>0.0</td>\n",
       "      <td>0</td>\n",
       "      <td>0</td>\n",
       "      <td>0.0</td>\n",
       "      <td>0.0</td>\n",
       "      <td>0</td>\n",
       "      <td>0</td>\n",
       "      <td>BENIGN</td>\n",
       "    </tr>\n",
       "  </tbody>\n",
       "</table>\n",
       "<p>1042557 rows × 79 columns</p>\n",
       "</div>"
      ],
      "text/plain": [
       "          Destination Port   Flow Duration   Total Fwd Packets  \\\n",
       "0                    54865               3                   2   \n",
       "1                    55054             109                   1   \n",
       "2                    55055              52                   1   \n",
       "3                    46236              34                   1   \n",
       "4                    54863               3                   2   \n",
       "...                    ...             ...                 ...   \n",
       "1042552                 53           32215                   4   \n",
       "1042553                 53             324                   2   \n",
       "1042554              58030              82                   2   \n",
       "1042555                 53         1048635                   6   \n",
       "1042556                 53           94939                   4   \n",
       "\n",
       "          Total Backward Packets  Total Length of Fwd Packets  \\\n",
       "0                              0                           12   \n",
       "1                              1                            6   \n",
       "2                              1                            6   \n",
       "3                              1                            6   \n",
       "4                              0                           12   \n",
       "...                          ...                          ...   \n",
       "1042552                        2                          112   \n",
       "1042553                        2                           84   \n",
       "1042554                        1                           31   \n",
       "1042555                        2                          192   \n",
       "1042556                        2                          188   \n",
       "\n",
       "          Total Length of Bwd Packets   Fwd Packet Length Max  \\\n",
       "0                                   0                       6   \n",
       "1                                   6                       6   \n",
       "2                                   6                       6   \n",
       "3                                   6                       6   \n",
       "4                                   0                       6   \n",
       "...                               ...                     ...   \n",
       "1042552                           152                      28   \n",
       "1042553                           362                      42   \n",
       "1042554                             6                      31   \n",
       "1042555                           256                      32   \n",
       "1042556                           226                      47   \n",
       "\n",
       "          Fwd Packet Length Min   Fwd Packet Length Mean  \\\n",
       "0                             6                      6.0   \n",
       "1                             6                      6.0   \n",
       "2                             6                      6.0   \n",
       "3                             6                      6.0   \n",
       "4                             6                      6.0   \n",
       "...                         ...                      ...   \n",
       "1042552                      28                     28.0   \n",
       "1042553                      42                     42.0   \n",
       "1042554                       0                     15.5   \n",
       "1042555                      32                     32.0   \n",
       "1042556                      47                     47.0   \n",
       "\n",
       "          Fwd Packet Length Std  ...   min_seg_size_forward  Active Mean  \\\n",
       "0                       0.00000  ...                     20          0.0   \n",
       "1                       0.00000  ...                     20          0.0   \n",
       "2                       0.00000  ...                     20          0.0   \n",
       "3                       0.00000  ...                     20          0.0   \n",
       "4                       0.00000  ...                     20          0.0   \n",
       "...                         ...  ...                    ...          ...   \n",
       "1042552                 0.00000  ...                     20          0.0   \n",
       "1042553                 0.00000  ...                     20          0.0   \n",
       "1042554                21.92031  ...                     32          0.0   \n",
       "1042555                 0.00000  ...                     20          0.0   \n",
       "1042556                 0.00000  ...                     20          0.0   \n",
       "\n",
       "          Active Std   Active Max   Active Min  Idle Mean   Idle Std  \\\n",
       "0                0.0            0            0        0.0        0.0   \n",
       "1                0.0            0            0        0.0        0.0   \n",
       "2                0.0            0            0        0.0        0.0   \n",
       "3                0.0            0            0        0.0        0.0   \n",
       "4                0.0            0            0        0.0        0.0   \n",
       "...              ...          ...          ...        ...        ...   \n",
       "1042552          0.0            0            0        0.0        0.0   \n",
       "1042553          0.0            0            0        0.0        0.0   \n",
       "1042554          0.0            0            0        0.0        0.0   \n",
       "1042555          0.0            0            0        0.0        0.0   \n",
       "1042556          0.0            0            0        0.0        0.0   \n",
       "\n",
       "          Idle Max   Idle Min   Label  \n",
       "0                0          0  BENIGN  \n",
       "1                0          0  BENIGN  \n",
       "2                0          0  BENIGN  \n",
       "3                0          0  BENIGN  \n",
       "4                0          0  BENIGN  \n",
       "...            ...        ...     ...  \n",
       "1042552          0          0  BENIGN  \n",
       "1042553          0          0  BENIGN  \n",
       "1042554          0          0  BENIGN  \n",
       "1042555          0          0  BENIGN  \n",
       "1042556          0          0  BENIGN  \n",
       "\n",
       "[1042557 rows x 79 columns]"
      ]
     },
     "execution_count": 2,
     "metadata": {},
     "output_type": "execute_result"
    }
   ],
   "source": [
    "dataset =pd.read_csv('/kaggle/input/cicids2017/dataset.csv')\n",
    "dataset"
   ]
  },
  {
   "cell_type": "code",
   "execution_count": 3,
   "id": "bd9c3976",
   "metadata": {
    "execution": {
     "iopub.execute_input": "2024-11-25T13:42:45.627644Z",
     "iopub.status.busy": "2024-11-25T13:42:45.627282Z",
     "iopub.status.idle": "2024-11-25T13:42:45.785132Z",
     "shell.execute_reply": "2024-11-25T13:42:45.784216Z"
    },
    "papermill": {
     "duration": 0.168033,
     "end_time": "2024-11-25T13:42:45.787836",
     "exception": false,
     "start_time": "2024-11-25T13:42:45.619803",
     "status": "completed"
    },
    "tags": []
   },
   "outputs": [
    {
     "name": "stdout",
     "output_type": "stream",
     "text": [
      "<class 'pandas.core.frame.DataFrame'>\n",
      "RangeIndex: 1042557 entries, 0 to 1042556\n",
      "Data columns (total 79 columns):\n",
      " #   Column                        Non-Null Count    Dtype  \n",
      "---  ------                        --------------    -----  \n",
      " 0    Destination Port             1042557 non-null  int64  \n",
      " 1    Flow Duration                1042557 non-null  int64  \n",
      " 2    Total Fwd Packets            1042557 non-null  int64  \n",
      " 3    Total Backward Packets       1042557 non-null  int64  \n",
      " 4   Total Length of Fwd Packets   1042557 non-null  int64  \n",
      " 5    Total Length of Bwd Packets  1042557 non-null  int64  \n",
      " 6    Fwd Packet Length Max        1042557 non-null  int64  \n",
      " 7    Fwd Packet Length Min        1042557 non-null  int64  \n",
      " 8    Fwd Packet Length Mean       1042557 non-null  float64\n",
      " 9    Fwd Packet Length Std        1042557 non-null  float64\n",
      " 10  Bwd Packet Length Max         1042557 non-null  int64  \n",
      " 11   Bwd Packet Length Min        1042557 non-null  int64  \n",
      " 12   Bwd Packet Length Mean       1042557 non-null  float64\n",
      " 13   Bwd Packet Length Std        1042557 non-null  float64\n",
      " 14  Flow Bytes/s                  1042557 non-null  float64\n",
      " 15   Flow Packets/s               1042557 non-null  float64\n",
      " 16   Flow IAT Mean                1042557 non-null  float64\n",
      " 17   Flow IAT Std                 1042557 non-null  float64\n",
      " 18   Flow IAT Max                 1042557 non-null  int64  \n",
      " 19   Flow IAT Min                 1042557 non-null  int64  \n",
      " 20  Fwd IAT Total                 1042557 non-null  int64  \n",
      " 21   Fwd IAT Mean                 1042557 non-null  float64\n",
      " 22   Fwd IAT Std                  1042557 non-null  float64\n",
      " 23   Fwd IAT Max                  1042557 non-null  int64  \n",
      " 24   Fwd IAT Min                  1042557 non-null  int64  \n",
      " 25  Bwd IAT Total                 1042557 non-null  int64  \n",
      " 26   Bwd IAT Mean                 1042557 non-null  float64\n",
      " 27   Bwd IAT Std                  1042557 non-null  float64\n",
      " 28   Bwd IAT Max                  1042557 non-null  int64  \n",
      " 29   Bwd IAT Min                  1042557 non-null  int64  \n",
      " 30  Fwd PSH Flags                 1042557 non-null  int64  \n",
      " 31   Bwd PSH Flags                1042557 non-null  int64  \n",
      " 32   Fwd URG Flags                1042557 non-null  int64  \n",
      " 33   Bwd URG Flags                1042557 non-null  int64  \n",
      " 34   Fwd Header Length            1042557 non-null  int64  \n",
      " 35   Bwd Header Length            1042557 non-null  int64  \n",
      " 36  Fwd Packets/s                 1042557 non-null  float64\n",
      " 37   Bwd Packets/s                1042557 non-null  float64\n",
      " 38   Min Packet Length            1042557 non-null  int64  \n",
      " 39   Max Packet Length            1042557 non-null  int64  \n",
      " 40   Packet Length Mean           1042557 non-null  float64\n",
      " 41   Packet Length Std            1042557 non-null  float64\n",
      " 42   Packet Length Variance       1042557 non-null  float64\n",
      " 43  FIN Flag Count                1042557 non-null  int64  \n",
      " 44   SYN Flag Count               1042557 non-null  int64  \n",
      " 45   RST Flag Count               1042557 non-null  int64  \n",
      " 46   PSH Flag Count               1042557 non-null  int64  \n",
      " 47   ACK Flag Count               1042557 non-null  int64  \n",
      " 48   URG Flag Count               1042557 non-null  int64  \n",
      " 49   CWE Flag Count               1042557 non-null  int64  \n",
      " 50   ECE Flag Count               1042557 non-null  int64  \n",
      " 51   Down/Up Ratio                1042557 non-null  int64  \n",
      " 52   Average Packet Size          1042557 non-null  float64\n",
      " 53   Avg Fwd Segment Size         1042557 non-null  float64\n",
      " 54   Avg Bwd Segment Size         1042557 non-null  float64\n",
      " 55   Fwd Header Length.1          1042557 non-null  int64  \n",
      " 56  Fwd Avg Bytes/Bulk            1042557 non-null  int64  \n",
      " 57   Fwd Avg Packets/Bulk         1042557 non-null  int64  \n",
      " 58   Fwd Avg Bulk Rate            1042557 non-null  int64  \n",
      " 59   Bwd Avg Bytes/Bulk           1042557 non-null  int64  \n",
      " 60   Bwd Avg Packets/Bulk         1042557 non-null  int64  \n",
      " 61  Bwd Avg Bulk Rate             1042557 non-null  int64  \n",
      " 62  Subflow Fwd Packets           1042557 non-null  int64  \n",
      " 63   Subflow Fwd Bytes            1042557 non-null  int64  \n",
      " 64   Subflow Bwd Packets          1042557 non-null  int64  \n",
      " 65   Subflow Bwd Bytes            1042557 non-null  int64  \n",
      " 66  Init_Win_bytes_forward        1042557 non-null  int64  \n",
      " 67   Init_Win_bytes_backward      1042557 non-null  int64  \n",
      " 68   act_data_pkt_fwd             1042557 non-null  int64  \n",
      " 69   min_seg_size_forward         1042557 non-null  int64  \n",
      " 70  Active Mean                   1042557 non-null  float64\n",
      " 71   Active Std                   1042557 non-null  float64\n",
      " 72   Active Max                   1042557 non-null  int64  \n",
      " 73   Active Min                   1042557 non-null  int64  \n",
      " 74  Idle Mean                     1042557 non-null  float64\n",
      " 75   Idle Std                     1042557 non-null  float64\n",
      " 76   Idle Max                     1042557 non-null  int64  \n",
      " 77   Idle Min                     1042557 non-null  int64  \n",
      " 78   Label                        1042557 non-null  object \n",
      "dtypes: float64(24), int64(54), object(1)\n",
      "memory usage: 628.4+ MB\n"
     ]
    }
   ],
   "source": [
    "dataset.info()"
   ]
  },
  {
   "cell_type": "code",
   "execution_count": 4,
   "id": "8df94e86",
   "metadata": {
    "execution": {
     "iopub.execute_input": "2024-11-25T13:42:45.803752Z",
     "iopub.status.busy": "2024-11-25T13:42:45.803462Z",
     "iopub.status.idle": "2024-11-25T13:42:45.807070Z",
     "shell.execute_reply": "2024-11-25T13:42:45.806383Z"
    },
    "papermill": {
     "duration": 0.012868,
     "end_time": "2024-11-25T13:42:45.808683",
     "exception": false,
     "start_time": "2024-11-25T13:42:45.795815",
     "status": "completed"
    },
    "tags": []
   },
   "outputs": [],
   "source": [
    "df = dataset"
   ]
  },
  {
   "cell_type": "code",
   "execution_count": 5,
   "id": "3a239626",
   "metadata": {
    "execution": {
     "iopub.execute_input": "2024-11-25T13:42:45.822808Z",
     "iopub.status.busy": "2024-11-25T13:42:45.822553Z",
     "iopub.status.idle": "2024-11-25T13:42:45.828090Z",
     "shell.execute_reply": "2024-11-25T13:42:45.827373Z"
    },
    "papermill": {
     "duration": 0.014382,
     "end_time": "2024-11-25T13:42:45.829604",
     "exception": false,
     "start_time": "2024-11-25T13:42:45.815222",
     "status": "completed"
    },
    "tags": []
   },
   "outputs": [
    {
     "data": {
      "text/plain": [
       "Index([' Destination Port', ' Flow Duration', ' Total Fwd Packets',\n",
       "       ' Total Backward Packets', 'Total Length of Fwd Packets',\n",
       "       ' Total Length of Bwd Packets', ' Fwd Packet Length Max',\n",
       "       ' Fwd Packet Length Min', ' Fwd Packet Length Mean',\n",
       "       ' Fwd Packet Length Std', 'Bwd Packet Length Max',\n",
       "       ' Bwd Packet Length Min', ' Bwd Packet Length Mean',\n",
       "       ' Bwd Packet Length Std', 'Flow Bytes/s', ' Flow Packets/s',\n",
       "       ' Flow IAT Mean', ' Flow IAT Std', ' Flow IAT Max', ' Flow IAT Min',\n",
       "       'Fwd IAT Total', ' Fwd IAT Mean', ' Fwd IAT Std', ' Fwd IAT Max',\n",
       "       ' Fwd IAT Min', 'Bwd IAT Total', ' Bwd IAT Mean', ' Bwd IAT Std',\n",
       "       ' Bwd IAT Max', ' Bwd IAT Min', 'Fwd PSH Flags', ' Bwd PSH Flags',\n",
       "       ' Fwd URG Flags', ' Bwd URG Flags', ' Fwd Header Length',\n",
       "       ' Bwd Header Length', 'Fwd Packets/s', ' Bwd Packets/s',\n",
       "       ' Min Packet Length', ' Max Packet Length', ' Packet Length Mean',\n",
       "       ' Packet Length Std', ' Packet Length Variance', 'FIN Flag Count',\n",
       "       ' SYN Flag Count', ' RST Flag Count', ' PSH Flag Count',\n",
       "       ' ACK Flag Count', ' URG Flag Count', ' CWE Flag Count',\n",
       "       ' ECE Flag Count', ' Down/Up Ratio', ' Average Packet Size',\n",
       "       ' Avg Fwd Segment Size', ' Avg Bwd Segment Size',\n",
       "       ' Fwd Header Length.1', 'Fwd Avg Bytes/Bulk', ' Fwd Avg Packets/Bulk',\n",
       "       ' Fwd Avg Bulk Rate', ' Bwd Avg Bytes/Bulk', ' Bwd Avg Packets/Bulk',\n",
       "       'Bwd Avg Bulk Rate', 'Subflow Fwd Packets', ' Subflow Fwd Bytes',\n",
       "       ' Subflow Bwd Packets', ' Subflow Bwd Bytes', 'Init_Win_bytes_forward',\n",
       "       ' Init_Win_bytes_backward', ' act_data_pkt_fwd',\n",
       "       ' min_seg_size_forward', 'Active Mean', ' Active Std', ' Active Max',\n",
       "       ' Active Min', 'Idle Mean', ' Idle Std', ' Idle Max', ' Idle Min',\n",
       "       ' Label'],\n",
       "      dtype='object')"
      ]
     },
     "execution_count": 5,
     "metadata": {},
     "output_type": "execute_result"
    }
   ],
   "source": [
    "df.columns"
   ]
  },
  {
   "cell_type": "code",
   "execution_count": 6,
   "id": "90316411",
   "metadata": {
    "execution": {
     "iopub.execute_input": "2024-11-25T13:42:45.843920Z",
     "iopub.status.busy": "2024-11-25T13:42:45.843672Z",
     "iopub.status.idle": "2024-11-25T13:42:45.916523Z",
     "shell.execute_reply": "2024-11-25T13:42:45.915698Z"
    },
    "papermill": {
     "duration": 0.081645,
     "end_time": "2024-11-25T13:42:45.918085",
     "exception": false,
     "start_time": "2024-11-25T13:42:45.836440",
     "status": "completed"
    },
    "tags": []
   },
   "outputs": [
    {
     "data": {
      "text/plain": [
       " Label\n",
       "BENIGN      629074\n",
       "DoS         194642\n",
       "DDoS        128022\n",
       "PortScan     90819\n",
       "Name: count, dtype: int64"
      ]
     },
     "execution_count": 6,
     "metadata": {},
     "output_type": "execute_result"
    }
   ],
   "source": [
    "df[' Label'].value_counts()"
   ]
  },
  {
   "cell_type": "code",
   "execution_count": 7,
   "id": "2dce0905",
   "metadata": {
    "execution": {
     "iopub.execute_input": "2024-11-25T13:42:45.932665Z",
     "iopub.status.busy": "2024-11-25T13:42:45.932403Z",
     "iopub.status.idle": "2024-11-25T13:42:46.113083Z",
     "shell.execute_reply": "2024-11-25T13:42:46.112372Z"
    },
    "papermill": {
     "duration": 0.190025,
     "end_time": "2024-11-25T13:42:46.115017",
     "exception": false,
     "start_time": "2024-11-25T13:42:45.924992",
     "status": "completed"
    },
    "tags": []
   },
   "outputs": [],
   "source": [
    "df = df.drop(columns=[' Bwd PSH Flags', ' Bwd URG Flags', 'Fwd Avg Bytes/Bulk', ' Fwd Avg Packets/Bulk', ' Fwd Avg Bulk Rate',\n",
    "       ' Bwd Avg Bytes/Bulk', ' Bwd Avg Packets/Bulk', 'Bwd Avg Bulk Rate'])"
   ]
  },
  {
   "cell_type": "code",
   "execution_count": 8,
   "id": "d633f029",
   "metadata": {
    "execution": {
     "iopub.execute_input": "2024-11-25T13:42:46.130089Z",
     "iopub.status.busy": "2024-11-25T13:42:46.129825Z",
     "iopub.status.idle": "2024-11-25T13:42:46.239883Z",
     "shell.execute_reply": "2024-11-25T13:42:46.239087Z"
    },
    "papermill": {
     "duration": 0.119471,
     "end_time": "2024-11-25T13:42:46.241570",
     "exception": false,
     "start_time": "2024-11-25T13:42:46.122099",
     "status": "completed"
    },
    "scrolled": true,
    "tags": []
   },
   "outputs": [
    {
     "data": {
      "text/plain": [
       "0"
      ]
     },
     "execution_count": 8,
     "metadata": {},
     "output_type": "execute_result"
    }
   ],
   "source": [
    "df.isnull().sum().sum()"
   ]
  },
  {
   "cell_type": "code",
   "execution_count": 9,
   "id": "c60742bd",
   "metadata": {
    "execution": {
     "iopub.execute_input": "2024-11-25T13:42:46.256870Z",
     "iopub.status.busy": "2024-11-25T13:42:46.256574Z",
     "iopub.status.idle": "2024-11-25T13:42:46.664229Z",
     "shell.execute_reply": "2024-11-25T13:42:46.663370Z"
    },
    "papermill": {
     "duration": 0.417184,
     "end_time": "2024-11-25T13:42:46.665947",
     "exception": false,
     "start_time": "2024-11-25T13:42:46.248763",
     "status": "completed"
    },
    "tags": []
   },
   "outputs": [
    {
     "data": {
      "text/plain": [
       "0"
      ]
     },
     "execution_count": 9,
     "metadata": {},
     "output_type": "execute_result"
    }
   ],
   "source": [
    "df = df.dropna(axis=0, how='any')\n",
    "df.isnull().sum().sum()"
   ]
  },
  {
   "cell_type": "code",
   "execution_count": 10,
   "id": "062aa8f0",
   "metadata": {
    "execution": {
     "iopub.execute_input": "2024-11-25T13:42:46.681282Z",
     "iopub.status.busy": "2024-11-25T13:42:46.681010Z",
     "iopub.status.idle": "2024-11-25T13:42:47.157551Z",
     "shell.execute_reply": "2024-11-25T13:42:47.156755Z"
    },
    "papermill": {
     "duration": 0.486351,
     "end_time": "2024-11-25T13:42:47.159503",
     "exception": false,
     "start_time": "2024-11-25T13:42:46.673152",
     "status": "completed"
    },
    "tags": []
   },
   "outputs": [],
   "source": [
    "df = df.replace([np.inf, -np.inf], np.nan)"
   ]
  },
  {
   "cell_type": "code",
   "execution_count": 11,
   "id": "b453523b",
   "metadata": {
    "execution": {
     "iopub.execute_input": "2024-11-25T13:42:47.174838Z",
     "iopub.status.busy": "2024-11-25T13:42:47.174561Z",
     "iopub.status.idle": "2024-11-25T13:42:47.284498Z",
     "shell.execute_reply": "2024-11-25T13:42:47.283665Z"
    },
    "papermill": {
     "duration": 0.119515,
     "end_time": "2024-11-25T13:42:47.286161",
     "exception": false,
     "start_time": "2024-11-25T13:42:47.166646",
     "status": "completed"
    },
    "tags": []
   },
   "outputs": [
    {
     "data": {
      "text/plain": [
       "1316"
      ]
     },
     "execution_count": 11,
     "metadata": {},
     "output_type": "execute_result"
    }
   ],
   "source": [
    "df.isnull().sum().sum()"
   ]
  },
  {
   "cell_type": "code",
   "execution_count": 12,
   "id": "1ed754c5",
   "metadata": {
    "execution": {
     "iopub.execute_input": "2024-11-25T13:42:47.301586Z",
     "iopub.status.busy": "2024-11-25T13:42:47.301266Z",
     "iopub.status.idle": "2024-11-25T13:42:47.718986Z",
     "shell.execute_reply": "2024-11-25T13:42:47.718077Z"
    },
    "papermill": {
     "duration": 0.4274,
     "end_time": "2024-11-25T13:42:47.720796",
     "exception": false,
     "start_time": "2024-11-25T13:42:47.293396",
     "status": "completed"
    },
    "tags": []
   },
   "outputs": [
    {
     "data": {
      "text/plain": [
       "0"
      ]
     },
     "execution_count": 12,
     "metadata": {},
     "output_type": "execute_result"
    }
   ],
   "source": [
    "df = df.dropna(axis=0, how='any')\n",
    "df.isnull().sum().sum()"
   ]
  },
  {
   "cell_type": "code",
   "execution_count": 13,
   "id": "4ffbe07c",
   "metadata": {
    "execution": {
     "iopub.execute_input": "2024-11-25T13:42:47.736257Z",
     "iopub.status.busy": "2024-11-25T13:42:47.735954Z",
     "iopub.status.idle": "2024-11-25T13:42:47.808161Z",
     "shell.execute_reply": "2024-11-25T13:42:47.807485Z"
    },
    "papermill": {
     "duration": 0.081716,
     "end_time": "2024-11-25T13:42:47.809909",
     "exception": false,
     "start_time": "2024-11-25T13:42:47.728193",
     "status": "completed"
    },
    "tags": []
   },
   "outputs": [
    {
     "data": {
      "text/plain": [
       " Label\n",
       "BENIGN      628546\n",
       "DoS         194639\n",
       "DDoS        128020\n",
       "PortScan     90694\n",
       "Name: count, dtype: int64"
      ]
     },
     "execution_count": 13,
     "metadata": {},
     "output_type": "execute_result"
    }
   ],
   "source": [
    "df[' Label'].value_counts()"
   ]
  },
  {
   "cell_type": "code",
   "execution_count": 14,
   "id": "0cfeb55e",
   "metadata": {
    "execution": {
     "iopub.execute_input": "2024-11-25T13:42:47.825569Z",
     "iopub.status.busy": "2024-11-25T13:42:47.825269Z",
     "iopub.status.idle": "2024-11-25T13:42:48.195037Z",
     "shell.execute_reply": "2024-11-25T13:42:48.194271Z"
    },
    "papermill": {
     "duration": 0.379529,
     "end_time": "2024-11-25T13:42:48.197049",
     "exception": false,
     "start_time": "2024-11-25T13:42:47.817520",
     "status": "completed"
    },
    "tags": []
   },
   "outputs": [],
   "source": [
    "X = df.iloc[:, :-1].values\n",
    "y = df.iloc[:, 70].values"
   ]
  },
  {
   "cell_type": "code",
   "execution_count": 15,
   "id": "03880788",
   "metadata": {
    "execution": {
     "iopub.execute_input": "2024-11-25T13:42:48.213012Z",
     "iopub.status.busy": "2024-11-25T13:42:48.212724Z",
     "iopub.status.idle": "2024-11-25T13:42:52.748581Z",
     "shell.execute_reply": "2024-11-25T13:42:52.747902Z"
    },
    "papermill": {
     "duration": 4.546003,
     "end_time": "2024-11-25T13:42:52.750559",
     "exception": false,
     "start_time": "2024-11-25T13:42:48.204556",
     "status": "completed"
    },
    "tags": []
   },
   "outputs": [],
   "source": [
    "Down_Dic = {'BENIGN': 628546,\n",
    "            'DoS': 194639,\n",
    "            'PortScan': 90694,\n",
    "            'DDoS': 128020,\n",
    "            }\n",
    "\n",
    "DownSamp = RandomUnderSampler(sampling_strategy=Down_Dic, random_state=0)\n",
    "X,y=DownSamp.fit_resample(X,y)"
   ]
  },
  {
   "cell_type": "code",
   "execution_count": 16,
   "id": "0902fcea",
   "metadata": {
    "execution": {
     "iopub.execute_input": "2024-11-25T13:42:52.766361Z",
     "iopub.status.busy": "2024-11-25T13:42:52.766064Z",
     "iopub.status.idle": "2024-11-25T13:42:56.526884Z",
     "shell.execute_reply": "2024-11-25T13:42:56.526079Z"
    },
    "papermill": {
     "duration": 3.770725,
     "end_time": "2024-11-25T13:42:56.528980",
     "exception": false,
     "start_time": "2024-11-25T13:42:52.758255",
     "status": "completed"
    },
    "tags": []
   },
   "outputs": [],
   "source": [
    "UP_Dic = {'BENIGN': 628546,\n",
    "            'DoS': 194639,\n",
    "            'PortScan': 90694,\n",
    "            'DDoS': 128020,\n",
    "            }\n",
    "\n",
    "UpSamp = SMOTE(sampling_strategy=UP_Dic, random_state=0)\n",
    "X,y=UpSamp.fit_resample(X,y)"
   ]
  },
  {
   "cell_type": "code",
   "execution_count": 17,
   "id": "cadf609d",
   "metadata": {
    "execution": {
     "iopub.execute_input": "2024-11-25T13:42:56.544866Z",
     "iopub.status.busy": "2024-11-25T13:42:56.544587Z",
     "iopub.status.idle": "2024-11-25T13:42:56.607562Z",
     "shell.execute_reply": "2024-11-25T13:42:56.606851Z"
    },
    "papermill": {
     "duration": 0.072972,
     "end_time": "2024-11-25T13:42:56.609436",
     "exception": false,
     "start_time": "2024-11-25T13:42:56.536464",
     "status": "completed"
    },
    "tags": []
   },
   "outputs": [],
   "source": [
    "y = pd.get_dummies(y)"
   ]
  },
  {
   "cell_type": "code",
   "execution_count": 18,
   "id": "aacdad86",
   "metadata": {
    "execution": {
     "iopub.execute_input": "2024-11-25T13:42:56.625632Z",
     "iopub.status.busy": "2024-11-25T13:42:56.625302Z",
     "iopub.status.idle": "2024-11-25T13:42:56.882135Z",
     "shell.execute_reply": "2024-11-25T13:42:56.881473Z"
    },
    "papermill": {
     "duration": 0.267087,
     "end_time": "2024-11-25T13:42:56.884185",
     "exception": false,
     "start_time": "2024-11-25T13:42:56.617098",
     "status": "completed"
    },
    "tags": []
   },
   "outputs": [],
   "source": [
    "from sklearn.model_selection import train_test_split\n",
    "X_train, X_test, y_train, y_test = train_test_split(X, y, test_size = 0.3, random_state = 0)"
   ]
  },
  {
   "cell_type": "code",
   "execution_count": 19,
   "id": "09d5e91a",
   "metadata": {
    "execution": {
     "iopub.execute_input": "2024-11-25T13:42:56.900465Z",
     "iopub.status.busy": "2024-11-25T13:42:56.900110Z",
     "iopub.status.idle": "2024-11-25T13:42:57.751152Z",
     "shell.execute_reply": "2024-11-25T13:42:57.750472Z"
    },
    "papermill": {
     "duration": 0.861431,
     "end_time": "2024-11-25T13:42:57.753295",
     "exception": false,
     "start_time": "2024-11-25T13:42:56.891864",
     "status": "completed"
    },
    "tags": []
   },
   "outputs": [],
   "source": [
    "from sklearn.preprocessing import StandardScaler\n",
    "sc = StandardScaler()\n",
    "X_train = sc.fit_transform(X_train)\n",
    "X_test = sc.transform(X_test)"
   ]
  },
  {
   "cell_type": "code",
   "execution_count": 20,
   "id": "28f17cf8",
   "metadata": {
    "execution": {
     "iopub.execute_input": "2024-11-25T13:42:57.769610Z",
     "iopub.status.busy": "2024-11-25T13:42:57.769279Z",
     "iopub.status.idle": "2024-11-25T13:43:15.812378Z",
     "shell.execute_reply": "2024-11-25T13:43:15.811395Z"
    },
    "papermill": {
     "duration": 18.053555,
     "end_time": "2024-11-25T13:43:15.814620",
     "exception": false,
     "start_time": "2024-11-25T13:42:57.761065",
     "status": "completed"
    },
    "tags": []
   },
   "outputs": [],
   "source": [
    "import keras\n",
    "from keras.models import Sequential\n",
    "from keras.layers import Dense"
   ]
  },
  {
   "cell_type": "code",
   "execution_count": 21,
   "id": "df69c885",
   "metadata": {
    "execution": {
     "iopub.execute_input": "2024-11-25T13:43:15.831191Z",
     "iopub.status.busy": "2024-11-25T13:43:15.830708Z",
     "iopub.status.idle": "2024-11-25T13:43:17.016182Z",
     "shell.execute_reply": "2024-11-25T13:43:17.015225Z"
    },
    "papermill": {
     "duration": 1.196042,
     "end_time": "2024-11-25T13:43:17.018727",
     "exception": false,
     "start_time": "2024-11-25T13:43:15.822685",
     "status": "completed"
    },
    "tags": []
   },
   "outputs": [
    {
     "name": "stderr",
     "output_type": "stream",
     "text": [
      "/opt/conda/lib/python3.10/site-packages/keras/src/layers/core/dense.py:87: UserWarning: Do not pass an `input_shape`/`input_dim` argument to a layer. When using Sequential models, prefer using an `Input(shape)` object as the first layer in the model instead.\n",
      "  super().__init__(activity_regularizer=activity_regularizer, **kwargs)\n"
     ]
    }
   ],
   "source": [
    "classifier = Sequential()\n",
    "\n",
    "classifier.add(Dense(42, activation = 'relu', input_dim = 70))"
   ]
  },
  {
   "cell_type": "code",
   "execution_count": 22,
   "id": "cd3acc1b",
   "metadata": {
    "execution": {
     "iopub.execute_input": "2024-11-25T13:43:17.038421Z",
     "iopub.status.busy": "2024-11-25T13:43:17.037425Z",
     "iopub.status.idle": "2024-11-25T13:43:17.055027Z",
     "shell.execute_reply": "2024-11-25T13:43:17.054151Z"
    },
    "papermill": {
     "duration": 0.03029,
     "end_time": "2024-11-25T13:43:17.057750",
     "exception": false,
     "start_time": "2024-11-25T13:43:17.027460",
     "status": "completed"
    },
    "tags": []
   },
   "outputs": [],
   "source": [
    "classifier.add(Dense(42, activation = 'relu'))"
   ]
  },
  {
   "cell_type": "code",
   "execution_count": 23,
   "id": "6a3c5c5c",
   "metadata": {
    "execution": {
     "iopub.execute_input": "2024-11-25T13:43:17.079221Z",
     "iopub.status.busy": "2024-11-25T13:43:17.078181Z",
     "iopub.status.idle": "2024-11-25T13:43:17.098779Z",
     "shell.execute_reply": "2024-11-25T13:43:17.097610Z"
    },
    "papermill": {
     "duration": 0.033335,
     "end_time": "2024-11-25T13:43:17.101187",
     "exception": false,
     "start_time": "2024-11-25T13:43:17.067852",
     "status": "completed"
    },
    "tags": []
   },
   "outputs": [],
   "source": [
    "classifier.add(Dense(4, activation = 'softmax'))"
   ]
  },
  {
   "cell_type": "code",
   "execution_count": 24,
   "id": "794997e0",
   "metadata": {
    "execution": {
     "iopub.execute_input": "2024-11-25T13:43:17.120649Z",
     "iopub.status.busy": "2024-11-25T13:43:17.119694Z",
     "iopub.status.idle": "2024-11-25T13:43:17.138126Z",
     "shell.execute_reply": "2024-11-25T13:43:17.137231Z"
    },
    "papermill": {
     "duration": 0.031162,
     "end_time": "2024-11-25T13:43:17.140795",
     "exception": false,
     "start_time": "2024-11-25T13:43:17.109633",
     "status": "completed"
    },
    "tags": []
   },
   "outputs": [],
   "source": [
    "classifier.compile(optimizer = 'adam', loss = 'categorical_crossentropy', metrics = ['accuracy'])"
   ]
  },
  {
   "cell_type": "code",
   "execution_count": 25,
   "id": "9ef5d9b3",
   "metadata": {
    "execution": {
     "iopub.execute_input": "2024-11-25T13:43:17.161553Z",
     "iopub.status.busy": "2024-11-25T13:43:17.160631Z",
     "iopub.status.idle": "2024-11-25T13:46:21.354127Z",
     "shell.execute_reply": "2024-11-25T13:46:21.353376Z"
    },
    "papermill": {
     "duration": 184.206697,
     "end_time": "2024-11-25T13:46:21.356136",
     "exception": false,
     "start_time": "2024-11-25T13:43:17.149439",
     "status": "completed"
    },
    "tags": []
   },
   "outputs": [
    {
     "name": "stdout",
     "output_type": "stream",
     "text": [
      "Epoch 1/25\n"
     ]
    },
    {
     "name": "stderr",
     "output_type": "stream",
     "text": [
      "WARNING: All log messages before absl::InitializeLog() is called are written to STDERR\n",
      "I0000 00:00:1732542198.685707      68 service.cc:145] XLA service 0x78ed2000b520 initialized for platform CUDA (this does not guarantee that XLA will be used). Devices:\n",
      "I0000 00:00:1732542198.685756      68 service.cc:153]   StreamExecutor device (0): Tesla T4, Compute Capability 7.5\n",
      "I0000 00:00:1732542198.685760      68 service.cc:153]   StreamExecutor device (1): Tesla T4, Compute Capability 7.5\n"
     ]
    },
    {
     "name": "stdout",
     "output_type": "stream",
     "text": [
      "\u001b[1m 111/4559\u001b[0m \u001b[37m━━━━━━━━━━━━━━━━━━━━\u001b[0m \u001b[1m6s\u001b[0m 1ms/step - accuracy: 0.6072 - loss: 0.9340"
     ]
    },
    {
     "name": "stderr",
     "output_type": "stream",
     "text": [
      "I0000 00:00:1732542200.501180      68 device_compiler.h:188] Compiled cluster using XLA!  This line is logged at most once for the lifetime of the process.\n"
     ]
    },
    {
     "name": "stdout",
     "output_type": "stream",
     "text": [
      "\u001b[1m4559/4559\u001b[0m \u001b[32m━━━━━━━━━━━━━━━━━━━━\u001b[0m\u001b[37m\u001b[0m \u001b[1m11s\u001b[0m 2ms/step - accuracy: 0.9501 - loss: 0.1349 - val_accuracy: 0.9902 - val_loss: 0.0271\n",
      "Epoch 2/25\n",
      "\u001b[1m4559/4559\u001b[0m \u001b[32m━━━━━━━━━━━━━━━━━━━━\u001b[0m\u001b[37m\u001b[0m \u001b[1m7s\u001b[0m 2ms/step - accuracy: 0.9911 - loss: 0.0246 - val_accuracy: 0.9918 - val_loss: 0.0227\n",
      "Epoch 3/25\n",
      "\u001b[1m4559/4559\u001b[0m \u001b[32m━━━━━━━━━━━━━━━━━━━━\u001b[0m\u001b[37m\u001b[0m \u001b[1m7s\u001b[0m 2ms/step - accuracy: 0.9934 - loss: 0.0177 - val_accuracy: 0.9937 - val_loss: 0.0168\n",
      "Epoch 4/25\n",
      "\u001b[1m4559/4559\u001b[0m \u001b[32m━━━━━━━━━━━━━━━━━━━━\u001b[0m\u001b[37m\u001b[0m \u001b[1m7s\u001b[0m 2ms/step - accuracy: 0.9942 - loss: 0.0161 - val_accuracy: 0.9945 - val_loss: 0.0144\n",
      "Epoch 5/25\n",
      "\u001b[1m4559/4559\u001b[0m \u001b[32m━━━━━━━━━━━━━━━━━━━━\u001b[0m\u001b[37m\u001b[0m \u001b[1m7s\u001b[0m 2ms/step - accuracy: 0.9946 - loss: 0.0142 - val_accuracy: 0.9950 - val_loss: 0.0141\n",
      "Epoch 6/25\n",
      "\u001b[1m4559/4559\u001b[0m \u001b[32m━━━━━━━━━━━━━━━━━━━━\u001b[0m\u001b[37m\u001b[0m \u001b[1m7s\u001b[0m 2ms/step - accuracy: 0.9949 - loss: 0.0135 - val_accuracy: 0.9947 - val_loss: 0.0144\n",
      "Epoch 7/25\n",
      "\u001b[1m4559/4559\u001b[0m \u001b[32m━━━━━━━━━━━━━━━━━━━━\u001b[0m\u001b[37m\u001b[0m \u001b[1m7s\u001b[0m 2ms/step - accuracy: 0.9953 - loss: 0.0128 - val_accuracy: 0.9953 - val_loss: 0.0125\n",
      "Epoch 8/25\n",
      "\u001b[1m4559/4559\u001b[0m \u001b[32m━━━━━━━━━━━━━━━━━━━━\u001b[0m\u001b[37m\u001b[0m \u001b[1m7s\u001b[0m 2ms/step - accuracy: 0.9956 - loss: 0.0120 - val_accuracy: 0.9960 - val_loss: 0.0117\n",
      "Epoch 9/25\n",
      "\u001b[1m4559/4559\u001b[0m \u001b[32m━━━━━━━━━━━━━━━━━━━━\u001b[0m\u001b[37m\u001b[0m \u001b[1m7s\u001b[0m 2ms/step - accuracy: 0.9956 - loss: 0.0119 - val_accuracy: 0.9964 - val_loss: 0.0103\n",
      "Epoch 10/25\n",
      "\u001b[1m4559/4559\u001b[0m \u001b[32m━━━━━━━━━━━━━━━━━━━━\u001b[0m\u001b[37m\u001b[0m \u001b[1m7s\u001b[0m 2ms/step - accuracy: 0.9958 - loss: 0.0114 - val_accuracy: 0.9962 - val_loss: 0.0119\n",
      "Epoch 11/25\n",
      "\u001b[1m4559/4559\u001b[0m \u001b[32m━━━━━━━━━━━━━━━━━━━━\u001b[0m\u001b[37m\u001b[0m \u001b[1m7s\u001b[0m 2ms/step - accuracy: 0.9958 - loss: 0.0110 - val_accuracy: 0.9966 - val_loss: 0.0115\n",
      "Epoch 12/25\n",
      "\u001b[1m4559/4559\u001b[0m \u001b[32m━━━━━━━━━━━━━━━━━━━━\u001b[0m\u001b[37m\u001b[0m \u001b[1m7s\u001b[0m 2ms/step - accuracy: 0.9961 - loss: 0.0107 - val_accuracy: 0.9959 - val_loss: 0.0111\n",
      "Epoch 13/25\n",
      "\u001b[1m4559/4559\u001b[0m \u001b[32m━━━━━━━━━━━━━━━━━━━━\u001b[0m\u001b[37m\u001b[0m \u001b[1m7s\u001b[0m 2ms/step - accuracy: 0.9961 - loss: 0.0101 - val_accuracy: 0.9928 - val_loss: 0.0152\n",
      "Epoch 14/25\n",
      "\u001b[1m4559/4559\u001b[0m \u001b[32m━━━━━━━━━━━━━━━━━━━━\u001b[0m\u001b[37m\u001b[0m \u001b[1m7s\u001b[0m 2ms/step - accuracy: 0.9964 - loss: 0.0097 - val_accuracy: 0.9968 - val_loss: 0.0094\n",
      "Epoch 15/25\n",
      "\u001b[1m4559/4559\u001b[0m \u001b[32m━━━━━━━━━━━━━━━━━━━━\u001b[0m\u001b[37m\u001b[0m \u001b[1m7s\u001b[0m 2ms/step - accuracy: 0.9963 - loss: 0.0098 - val_accuracy: 0.9971 - val_loss: 0.0105\n",
      "Epoch 16/25\n",
      "\u001b[1m4559/4559\u001b[0m \u001b[32m━━━━━━━━━━━━━━━━━━━━\u001b[0m\u001b[37m\u001b[0m \u001b[1m7s\u001b[0m 2ms/step - accuracy: 0.9965 - loss: 0.0095 - val_accuracy: 0.9963 - val_loss: 0.0124\n",
      "Epoch 17/25\n",
      "\u001b[1m4559/4559\u001b[0m \u001b[32m━━━━━━━━━━━━━━━━━━━━\u001b[0m\u001b[37m\u001b[0m \u001b[1m7s\u001b[0m 2ms/step - accuracy: 0.9966 - loss: 0.0091 - val_accuracy: 0.9969 - val_loss: 0.0082\n",
      "Epoch 18/25\n",
      "\u001b[1m4559/4559\u001b[0m \u001b[32m━━━━━━━━━━━━━━━━━━━━\u001b[0m\u001b[37m\u001b[0m \u001b[1m7s\u001b[0m 2ms/step - accuracy: 0.9965 - loss: 0.0096 - val_accuracy: 0.9969 - val_loss: 0.0086\n",
      "Epoch 19/25\n",
      "\u001b[1m4559/4559\u001b[0m \u001b[32m━━━━━━━━━━━━━━━━━━━━\u001b[0m\u001b[37m\u001b[0m \u001b[1m7s\u001b[0m 2ms/step - accuracy: 0.9963 - loss: 0.0096 - val_accuracy: 0.9963 - val_loss: 0.0103\n",
      "Epoch 20/25\n",
      "\u001b[1m4559/4559\u001b[0m \u001b[32m━━━━━━━━━━━━━━━━━━━━\u001b[0m\u001b[37m\u001b[0m \u001b[1m7s\u001b[0m 2ms/step - accuracy: 0.9967 - loss: 0.0092 - val_accuracy: 0.9969 - val_loss: 0.0098\n",
      "Epoch 21/25\n",
      "\u001b[1m4559/4559\u001b[0m \u001b[32m━━━━━━━━━━━━━━━━━━━━\u001b[0m\u001b[37m\u001b[0m \u001b[1m7s\u001b[0m 2ms/step - accuracy: 0.9967 - loss: 0.0090 - val_accuracy: 0.9970 - val_loss: 0.0093\n",
      "Epoch 22/25\n",
      "\u001b[1m4559/4559\u001b[0m \u001b[32m━━━━━━━━━━━━━━━━━━━━\u001b[0m\u001b[37m\u001b[0m \u001b[1m7s\u001b[0m 2ms/step - accuracy: 0.9967 - loss: 0.0092 - val_accuracy: 0.9969 - val_loss: 0.0093\n",
      "Epoch 23/25\n",
      "\u001b[1m4559/4559\u001b[0m \u001b[32m━━━━━━━━━━━━━━━━━━━━\u001b[0m\u001b[37m\u001b[0m \u001b[1m7s\u001b[0m 2ms/step - accuracy: 0.9968 - loss: 0.0086 - val_accuracy: 0.9972 - val_loss: 0.0084\n",
      "Epoch 24/25\n",
      "\u001b[1m4559/4559\u001b[0m \u001b[32m━━━━━━━━━━━━━━━━━━━━\u001b[0m\u001b[37m\u001b[0m \u001b[1m7s\u001b[0m 2ms/step - accuracy: 0.9967 - loss: 0.0088 - val_accuracy: 0.9968 - val_loss: 0.0088\n",
      "Epoch 25/25\n",
      "\u001b[1m4559/4559\u001b[0m \u001b[32m━━━━━━━━━━━━━━━━━━━━\u001b[0m\u001b[37m\u001b[0m \u001b[1m7s\u001b[0m 2ms/step - accuracy: 0.9969 - loss: 0.0082 - val_accuracy: 0.9976 - val_loss: 0.0092\n"
     ]
    }
   ],
   "source": [
    "history = classifier.fit(X_train, y_train, validation_split=0.2, epochs=25, batch_size=128)"
   ]
  },
  {
   "cell_type": "code",
   "execution_count": 26,
   "id": "d5d4b9cc",
   "metadata": {
    "execution": {
     "iopub.execute_input": "2024-11-25T13:46:21.640953Z",
     "iopub.status.busy": "2024-11-25T13:46:21.640614Z",
     "iopub.status.idle": "2024-11-25T13:46:38.726854Z",
     "shell.execute_reply": "2024-11-25T13:46:38.725810Z"
    },
    "papermill": {
     "duration": 17.230769,
     "end_time": "2024-11-25T13:46:38.729058",
     "exception": false,
     "start_time": "2024-11-25T13:46:21.498289",
     "status": "completed"
    },
    "tags": []
   },
   "outputs": [
    {
     "name": "stdout",
     "output_type": "stream",
     "text": [
      "\u001b[1m9768/9768\u001b[0m \u001b[32m━━━━━━━━━━━━━━━━━━━━\u001b[0m\u001b[37m\u001b[0m \u001b[1m11s\u001b[0m 1ms/step\n"
     ]
    }
   ],
   "source": [
    "y_pred = classifier.predict(X_test)\n",
    "y_pred = (y_pred > 0.7)"
   ]
  },
  {
   "cell_type": "code",
   "execution_count": 27,
   "id": "b42c938a",
   "metadata": {
    "execution": {
     "iopub.execute_input": "2024-11-25T13:46:39.040198Z",
     "iopub.status.busy": "2024-11-25T13:46:39.039618Z",
     "iopub.status.idle": "2024-11-25T13:46:39.123302Z",
     "shell.execute_reply": "2024-11-25T13:46:39.122412Z"
    },
    "papermill": {
     "duration": 0.238417,
     "end_time": "2024-11-25T13:46:39.125005",
     "exception": false,
     "start_time": "2024-11-25T13:46:38.886588",
     "status": "completed"
    },
    "tags": []
   },
   "outputs": [
    {
     "data": {
      "text/plain": [
       "0.9950315129411011"
      ]
     },
     "execution_count": 27,
     "metadata": {},
     "output_type": "execute_result"
    }
   ],
   "source": [
    "from sklearn.metrics import accuracy_score \n",
    "accuracy = accuracy_score(y_test, y_pred)\n",
    "accuracy"
   ]
  },
  {
   "cell_type": "code",
   "execution_count": 28,
   "id": "8bdd5e9d",
   "metadata": {
    "execution": {
     "iopub.execute_input": "2024-11-25T13:46:39.434755Z",
     "iopub.status.busy": "2024-11-25T13:46:39.434369Z",
     "iopub.status.idle": "2024-11-25T13:46:39.440524Z",
     "shell.execute_reply": "2024-11-25T13:46:39.439541Z"
    },
    "papermill": {
     "duration": 0.162534,
     "end_time": "2024-11-25T13:46:39.442414",
     "exception": false,
     "start_time": "2024-11-25T13:46:39.279880",
     "status": "completed"
    },
    "tags": []
   },
   "outputs": [
    {
     "data": {
      "text/plain": [
       "0.9950315129411011"
      ]
     },
     "execution_count": 28,
     "metadata": {},
     "output_type": "execute_result"
    }
   ],
   "source": [
    "accuracy"
   ]
  },
  {
   "cell_type": "code",
   "execution_count": null,
   "id": "73073934",
   "metadata": {
    "execution": {
     "iopub.execute_input": "2024-11-24T19:18:24.756293Z",
     "iopub.status.busy": "2024-11-24T19:18:24.756057Z",
     "iopub.status.idle": "2024-11-24T19:18:24.911653Z",
     "shell.execute_reply": "2024-11-24T19:18:24.910680Z",
     "shell.execute_reply.started": "2024-11-24T19:18:24.756270Z"
    },
    "papermill": {
     "duration": 0.155502,
     "end_time": "2024-11-25T13:46:39.792924",
     "exception": false,
     "start_time": "2024-11-25T13:46:39.637422",
     "status": "completed"
    },
    "tags": []
   },
   "outputs": [],
   "source": []
  },
  {
   "cell_type": "code",
   "execution_count": 29,
   "id": "edc46b7a",
   "metadata": {
    "execution": {
     "iopub.execute_input": "2024-11-25T13:46:40.115496Z",
     "iopub.status.busy": "2024-11-25T13:46:40.114867Z",
     "iopub.status.idle": "2024-11-25T13:46:40.118990Z",
     "shell.execute_reply": "2024-11-25T13:46:40.118119Z"
    },
    "papermill": {
     "duration": 0.169148,
     "end_time": "2024-11-25T13:46:40.120566",
     "exception": false,
     "start_time": "2024-11-25T13:46:39.951418",
     "status": "completed"
    },
    "tags": []
   },
   "outputs": [],
   "source": [
    "import tensorflow as tf"
   ]
  },
  {
   "cell_type": "code",
   "execution_count": 30,
   "id": "a3397e6a",
   "metadata": {
    "execution": {
     "iopub.execute_input": "2024-11-25T13:46:40.425516Z",
     "iopub.status.busy": "2024-11-25T13:46:40.425124Z",
     "iopub.status.idle": "2024-11-25T13:46:40.911595Z",
     "shell.execute_reply": "2024-11-25T13:46:40.910671Z"
    },
    "papermill": {
     "duration": 0.641024,
     "end_time": "2024-11-25T13:46:40.913443",
     "exception": false,
     "start_time": "2024-11-25T13:46:40.272419",
     "status": "completed"
    },
    "tags": []
   },
   "outputs": [
    {
     "data": {
      "image/png": "[encoded data removed]",
      "text/plain": [
       "<IPython.core.display.Image object>"
      ]
     },
     "execution_count": 30,
     "metadata": {},
     "output_type": "execute_result"
    }
   ],
   "source": [
    "from keras.utils import plot_model\n",
    "plot_model(classifier, to_file='classifier_plot.png', show_shapes=True, show_layer_names=True, dpi=100)"
   ]
  },
  {
   "cell_type": "code",
   "execution_count": 31,
   "id": "8aaf236c",
   "metadata": {
    "execution": {
     "iopub.execute_input": "2024-11-25T13:46:41.222962Z",
     "iopub.status.busy": "2024-11-25T13:46:41.222595Z",
     "iopub.status.idle": "2024-11-25T13:46:41.390369Z",
     "shell.execute_reply": "2024-11-25T13:46:41.389389Z"
    },
    "papermill": {
     "duration": 0.323301,
     "end_time": "2024-11-25T13:46:41.392212",
     "exception": false,
     "start_time": "2024-11-25T13:46:41.068911",
     "status": "completed"
    },
    "tags": []
   },
   "outputs": [
    {
     "data": {
      "text/plain": [
       "0.9971418937300541"
      ]
     },
     "execution_count": 31,
     "metadata": {},
     "output_type": "execute_result"
    }
   ],
   "source": [
    "from sklearn.metrics import f1_score\n",
    "f1 = f1_score(y_test, y_pred, average='macro') \n",
    "f1"
   ]
  },
  {
   "cell_type": "code",
   "execution_count": 32,
   "id": "402c7e40",
   "metadata": {
    "execution": {
     "iopub.execute_input": "2024-11-25T13:46:41.755485Z",
     "iopub.status.busy": "2024-11-25T13:46:41.754607Z",
     "iopub.status.idle": "2024-11-25T13:46:41.760207Z",
     "shell.execute_reply": "2024-11-25T13:46:41.759217Z"
    },
    "papermill": {
     "duration": 0.167952,
     "end_time": "2024-11-25T13:46:41.762222",
     "exception": false,
     "start_time": "2024-11-25T13:46:41.594270",
     "status": "completed"
    },
    "tags": []
   },
   "outputs": [
    {
     "name": "stdout",
     "output_type": "stream",
     "text": [
      "dict_keys(['accuracy', 'loss', 'val_accuracy', 'val_loss'])\n"
     ]
    }
   ],
   "source": [
    "print(history.history.keys())"
   ]
  },
  {
   "cell_type": "code",
   "execution_count": 33,
   "id": "8ee2790a",
   "metadata": {
    "execution": {
     "iopub.execute_input": "2024-11-25T13:46:42.076675Z",
     "iopub.status.busy": "2024-11-25T13:46:42.075820Z",
     "iopub.status.idle": "2024-11-25T13:46:42.510048Z",
     "shell.execute_reply": "2024-11-25T13:46:42.509116Z"
    },
    "papermill": {
     "duration": 0.594177,
     "end_time": "2024-11-25T13:46:42.511813",
     "exception": false,
     "start_time": "2024-11-25T13:46:41.917636",
     "status": "completed"
    },
    "tags": []
   },
   "outputs": [
    {
     "data": {
      "image/png": "[encoded data removed]",
      "text/plain": [
       "<Figure size 640x480 with 1 Axes>"
      ]
     },
     "metadata": {},
     "output_type": "display_data"
    },
    {
     "data": {
      "image/png": "[encoded data removed]",
      "text/plain": [
       "<Figure size 640x480 with 1 Axes>"
      ]
     },
     "metadata": {},
     "output_type": "display_data"
    }
   ],
   "source": [
    "plt.plot(history.history['accuracy'])\n",
    "plt.plot(history.history['val_accuracy'])\n",
    "plt.title('model accuracy')\n",
    "plt.ylabel('accuracy')\n",
    "plt.xlabel('epoch')\n",
    "plt.legend(['train', 'test'], loc='upper left')\n",
    "plt.show()\n",
    "\n",
    "plt.plot(history.history['loss'])\n",
    "plt.plot(history.history['val_loss'])\n",
    "plt.title('model loss')\n",
    "plt.ylabel('loss')\n",
    "plt.xlabel('epoch')\n",
    "plt.legend(['train', 'test'], loc='upper left')\n",
    "plt.show()"
   ]
  },
  {
   "cell_type": "code",
   "execution_count": 34,
   "id": "4593604a",
   "metadata": {
    "execution": {
     "iopub.execute_input": "2024-11-25T13:46:42.830895Z",
     "iopub.status.busy": "2024-11-25T13:46:42.830505Z",
     "iopub.status.idle": "2024-11-25T13:46:54.255735Z",
     "shell.execute_reply": "2024-11-25T13:46:54.254716Z"
    },
    "papermill": {
     "duration": 11.585105,
     "end_time": "2024-11-25T13:46:54.257598",
     "exception": false,
     "start_time": "2024-11-25T13:46:42.672493",
     "status": "completed"
    },
    "tags": []
   },
   "outputs": [
    {
     "name": "stdout",
     "output_type": "stream",
     "text": [
      "compile_metrics: 99.78%\n",
      "99.78% (+/- 0.00%)\n"
     ]
    }
   ],
   "source": [
    "cvscores = []\n",
    "scores = classifier.evaluate(X_test, y_test, verbose=0)\n",
    "print(\"%s: %.2f%%\" % (classifier.metrics_names[1], scores[1]*100))\n",
    "cvscores.append(scores[1] * 100)\n",
    "print(\"%.2f%% (+/- %.2f%%)\" % (np.mean(cvscores), np.std(cvscores)))"
   ]
  },
  {
   "cell_type": "code",
   "execution_count": 35,
   "id": "5286f188",
   "metadata": {
    "execution": {
     "iopub.execute_input": "2024-11-25T13:46:54.565098Z",
     "iopub.status.busy": "2024-11-25T13:46:54.564754Z",
     "iopub.status.idle": "2024-11-25T13:46:54.733754Z",
     "shell.execute_reply": "2024-11-25T13:46:54.732785Z"
    },
    "papermill": {
     "duration": 0.326522,
     "end_time": "2024-11-25T13:46:54.735695",
     "exception": false,
     "start_time": "2024-11-25T13:46:54.409173",
     "status": "completed"
    },
    "tags": []
   },
   "outputs": [
    {
     "data": {
      "text/plain": [
       "0.9983415885916277"
      ]
     },
     "execution_count": 35,
     "metadata": {},
     "output_type": "execute_result"
    }
   ],
   "source": [
    "from sklearn.metrics import precision_score\n",
    "precision_score = precision_score(y_test, y_pred, average='macro') \n",
    "precision_score"
   ]
  },
  {
   "cell_type": "code",
   "execution_count": 36,
   "id": "96524a79",
   "metadata": {
    "execution": {
     "iopub.execute_input": "2024-11-25T13:46:55.042718Z",
     "iopub.status.busy": "2024-11-25T13:46:55.042359Z",
     "iopub.status.idle": "2024-11-25T13:46:55.208185Z",
     "shell.execute_reply": "2024-11-25T13:46:55.207276Z"
    },
    "papermill": {
     "duration": 0.321395,
     "end_time": "2024-11-25T13:46:55.210105",
     "exception": false,
     "start_time": "2024-11-25T13:46:54.888710",
     "status": "completed"
    },
    "tags": []
   },
   "outputs": [
    {
     "data": {
      "text/plain": [
       "0.9959469996814481"
      ]
     },
     "execution_count": 36,
     "metadata": {},
     "output_type": "execute_result"
    }
   ],
   "source": [
    "from sklearn.metrics import recall_score\n",
    "recall_score = recall_score(y_test, y_pred, average='macro') \n",
    "recall_score"
   ]
  },
  {
   "cell_type": "code",
   "execution_count": 37,
   "id": "44b83477",
   "metadata": {
    "execution": {
     "iopub.execute_input": "2024-11-25T13:46:55.522855Z",
     "iopub.status.busy": "2024-11-25T13:46:55.522486Z",
     "iopub.status.idle": "2024-11-25T13:46:55.569756Z",
     "shell.execute_reply": "2024-11-25T13:46:55.568916Z"
    },
    "papermill": {
     "duration": 0.200235,
     "end_time": "2024-11-25T13:46:55.571391",
     "exception": false,
     "start_time": "2024-11-25T13:46:55.371156",
     "status": "completed"
    },
    "tags": []
   },
   "outputs": [
    {
     "data": {
      "text/plain": [
       "array(['BENIGN', 'DDoS', 'PortScan', 'DoS'], dtype=object)"
      ]
     },
     "execution_count": 37,
     "metadata": {},
     "output_type": "execute_result"
    }
   ],
   "source": [
    "# Converting the label column to an array\n",
    "df2 = df[' Label']\n",
    "feat = df2.values\n",
    "label = df2.unique()\n",
    "label"
   ]
  },
  {
   "cell_type": "code",
   "execution_count": 38,
   "id": "6dd3dfc0",
   "metadata": {
    "execution": {
     "iopub.execute_input": "2024-11-25T13:46:55.918923Z",
     "iopub.status.busy": "2024-11-25T13:46:55.918077Z",
     "iopub.status.idle": "2024-11-25T13:46:55.925734Z",
     "shell.execute_reply": "2024-11-25T13:46:55.924917Z"
    },
    "papermill": {
     "duration": 0.201813,
     "end_time": "2024-11-25T13:46:55.927287",
     "exception": false,
     "start_time": "2024-11-25T13:46:55.725474",
     "status": "completed"
    },
    "tags": []
   },
   "outputs": [],
   "source": [
    "# Function to plot confusion matrix for multi-class label\n",
    "def plot_confusion_matrix(cm, classes,\n",
    "                          normalize=False,\n",
    "                          title='Confusion matrix',\n",
    "                          cmap=plt.cm.Blues):\n",
    "    \"\"\"\n",
    "    This function prints and plots the confusion matrix.\n",
    "    Normalization can be applied by setting `normalize=True`.\n",
    "    \"\"\"\n",
    "    import itertools\n",
    "    if normalize:\n",
    "        cm = cm.astype('float') / cm.sum(axis=1)[:, np.newaxis]\n",
    "        print(\"Normalized confusion matrix\")\n",
    "    else:\n",
    "        print('Confusion matrix, without normalization')\n",
    "\n",
    "    print(cm)\n",
    "    \n",
    "    plt.figure(figsize=(9,7))\n",
    "\n",
    "    plt.imshow(cm, interpolation='nearest', cmap=cmap)\n",
    "    plt.title(title)\n",
    "    plt.colorbar()\n",
    "    tick_marks = np.arange(len(classes))\n",
    "    plt.xticks(tick_marks, classes, rotation=45)\n",
    "    plt.yticks(tick_marks, classes)\n",
    "\n",
    "    fmt = '.2f' if normalize else 'd'\n",
    "    thresh = cm.max() / 2.\n",
    "    for i, j in itertools.product(range(cm.shape[0]), range(cm.shape[1])):\n",
    "        plt.text(j, i, format(cm[i, j], fmt),\n",
    "                 horizontalalignment=\"center\",\n",
    "                 color=\"white\" if cm[i, j] > thresh else \"black\")\n",
    "\n",
    "    plt.ylabel('True label')\n",
    "    plt.xlabel('Predicted label')\n",
    "    plt.tight_layout()"
   ]
  },
  {
   "cell_type": "code",
   "execution_count": 39,
   "id": "ad0bfc62",
   "metadata": {
    "execution": {
     "iopub.execute_input": "2024-11-25T13:46:56.230134Z",
     "iopub.status.busy": "2024-11-25T13:46:56.229817Z",
     "iopub.status.idle": "2024-11-25T13:46:56.562961Z",
     "shell.execute_reply": "2024-11-25T13:46:56.562085Z"
    },
    "papermill": {
     "duration": 0.48652,
     "end_time": "2024-11-25T13:46:56.564814",
     "exception": false,
     "start_time": "2024-11-25T13:46:56.078294",
     "status": "completed"
    },
    "tags": []
   },
   "outputs": [
    {
     "name": "stdout",
     "output_type": "stream",
     "text": [
      "Confusion matrix, without normalization\n",
      "[[188358     20    300     11]\n",
      " [    18  38503      1      0]\n",
      " [   537      0  57865      0]\n",
      " [    26      0     13  26918]]\n"
     ]
    },
    {
     "data": {
      "text/plain": [
       "<Figure size 640x480 with 0 Axes>"
      ]
     },
     "metadata": {},
     "output_type": "display_data"
    },
    {
     "data": {
      "image/png": "[encoded data removed]",
      "text/plain": [
       "<Figure size 900x700 with 2 Axes>"
      ]
     },
     "metadata": {},
     "output_type": "display_data"
    }
   ],
   "source": [
    "# Plotting confusion matrix\n",
    "from sklearn.metrics import confusion_matrix\n",
    "\n",
    "cnf_matrix = confusion_matrix(y_test.values.argmax(axis=1), y_pred.argmax(axis=1),labels=[0, 1, 2, 3])\n",
    "                                                                                        \n",
    "np.set_printoptions(precision=2)\n",
    "\n",
    "# Plot non-normalized confusion matrix\n",
    "plt.figure()\n",
    "plot_confusion_matrix(cnf_matrix, classes=label,\n",
    "                      title='Confusion matrix')"
   ]
  },
  {
   "cell_type": "code",
   "execution_count": 40,
   "id": "b001f9d1",
   "metadata": {
    "execution": {
     "iopub.execute_input": "2024-11-25T13:46:56.874302Z",
     "iopub.status.busy": "2024-11-25T13:46:56.873470Z",
     "iopub.status.idle": "2024-11-25T13:46:58.067037Z",
     "shell.execute_reply": "2024-11-25T13:46:58.065754Z"
    },
    "papermill": {
     "duration": 1.348711,
     "end_time": "2024-11-25T13:46:58.068535",
     "exception": true,
     "start_time": "2024-11-25T13:46:56.719824",
     "status": "failed"
    },
    "tags": []
   },
   "outputs": [
    {
     "name": "stderr",
     "output_type": "stream",
     "text": [
      "/opt/conda/lib/python3.10/site-packages/sklearn/metrics/_classification.py:1344: UndefinedMetricWarning: Precision and F-score are ill-defined and being set to 0.0 in samples with no predicted labels. Use `zero_division` parameter to control this behavior.\n",
      "  _warn_prf(average, modifier, msg_start, len(result))\n"
     ]
    },
    {
     "name": "stdout",
     "output_type": "stream",
     "text": [
      "              precision    recall  f1-score   support\n",
      "\n",
      "           0       1.00      0.99      1.00    188689\n",
      "           1       1.00      1.00      1.00     38522\n",
      "           2       0.99      0.99      0.99     58402\n",
      "           3       1.00      1.00      1.00     26957\n",
      "\n",
      "   micro avg       1.00      1.00      1.00    312570\n",
      "   macro avg       1.00      1.00      1.00    312570\n",
      "weighted avg       1.00      1.00      1.00    312570\n",
      " samples avg       1.00      1.00      1.00    312570\n",
      "\n"
     ]
    },
    {
     "ename": "ValueError",
     "evalue": "multilabel-indicator is not supported",
     "output_type": "error",
     "traceback": [
      "\u001b[0;31m---------------------------------------------------------------------------\u001b[0m",
      "\u001b[0;31mValueError\u001b[0m                                Traceback (most recent call last)",
      "Cell \u001b[0;32mIn[40], line 3\u001b[0m\n\u001b[1;32m      1\u001b[0m \u001b[38;5;28;01mfrom\u001b[39;00m \u001b[38;5;21;01msklearn\u001b[39;00m\u001b[38;5;21;01m.\u001b[39;00m\u001b[38;5;21;01mmetrics\u001b[39;00m \u001b[38;5;28;01mimport\u001b[39;00m classification_report, confusion_matrix\n\u001b[1;32m      2\u001b[0m \u001b[38;5;28mprint\u001b[39m(classification_report(y_test, y_pred))\n\u001b[0;32m----> 3\u001b[0m \u001b[38;5;28mprint\u001b[39m(\u001b[43mconfusion_matrix\u001b[49m\u001b[43m(\u001b[49m\u001b[43my_test\u001b[49m\u001b[43m,\u001b[49m\u001b[43m \u001b[49m\u001b[43my_pred\u001b[49m\u001b[43m)\u001b[49m)\n",
      "File \u001b[0;32m/opt/conda/lib/python3.10/site-packages/sklearn/metrics/_classification.py:319\u001b[0m, in \u001b[0;36mconfusion_matrix\u001b[0;34m(y_true, y_pred, labels, sample_weight, normalize)\u001b[0m\n\u001b[1;32m    317\u001b[0m y_type, y_true, y_pred \u001b[38;5;241m=\u001b[39m _check_targets(y_true, y_pred)\n\u001b[1;32m    318\u001b[0m \u001b[38;5;28;01mif\u001b[39;00m y_type \u001b[38;5;129;01mnot\u001b[39;00m \u001b[38;5;129;01min\u001b[39;00m (\u001b[38;5;124m\"\u001b[39m\u001b[38;5;124mbinary\u001b[39m\u001b[38;5;124m\"\u001b[39m, \u001b[38;5;124m\"\u001b[39m\u001b[38;5;124mmulticlass\u001b[39m\u001b[38;5;124m\"\u001b[39m):\n\u001b[0;32m--> 319\u001b[0m     \u001b[38;5;28;01mraise\u001b[39;00m \u001b[38;5;167;01mValueError\u001b[39;00m(\u001b[38;5;124m\"\u001b[39m\u001b[38;5;132;01m%s\u001b[39;00m\u001b[38;5;124m is not supported\u001b[39m\u001b[38;5;124m\"\u001b[39m \u001b[38;5;241m%\u001b[39m y_type)\n\u001b[1;32m    321\u001b[0m \u001b[38;5;28;01mif\u001b[39;00m labels \u001b[38;5;129;01mis\u001b[39;00m \u001b[38;5;28;01mNone\u001b[39;00m:\n\u001b[1;32m    322\u001b[0m     labels \u001b[38;5;241m=\u001b[39m unique_labels(y_true, y_pred)\n",
      "\u001b[0;31mValueError\u001b[0m: multilabel-indicator is not supported"
     ]
    }
   ],
   "source": [
    " from sklearn.metrics import classification_report, confusion_matrix\n",
    "print(classification_report(y_test, y_pred))\n",
    "print(confusion_matrix(y_test, y_pred))"
   ]
  },
  {
   "cell_type": "code",
   "execution_count": null,
   "id": "209f9528",
   "metadata": {
    "papermill": {
     "duration": null,
     "end_time": null,
     "exception": null,
     "start_time": null,
     "status": "pending"
    },
    "tags": []
   },
   "outputs": [],
   "source": []
  }
 ],
 "metadata": {
  "kaggle": {
   "accelerator": "nvidiaTeslaT4",
   "dataSources": [
    {
     "datasetId": 6122749,
     "sourceId": 9955294,
     "sourceType": "datasetVersion"
    }
   ],
   "dockerImageVersionId": 30787,
   "isGpuEnabled": true,
   "isInternetEnabled": true,
   "language": "python",
   "sourceType": "notebook"
  },
  "kernelspec": {
   "display_name": "Python 3",
   "language": "python",
   "name": "python3"
  },
  "language_info": {
   "codemirror_mode": {
    "name": "ipython",
    "version": 3
   },
   "file_extension": ".py",
   "mimetype": "text/x-python",
   "name": "python",
   "nbconvert_exporter": "python",
   "pygments_lexer": "ipython3",
   "version": "3.10.14"
  },
  "papermill": {
   "default_parameters": {},
   "duration": 276.427491,
   "end_time": "2024-11-25T13:47:01.797970",
   "environment_variables": {},
   "exception": true,
   "input_path": "__notebook__.ipynb",
   "output_path": "__notebook__.ipynb",
   "parameters": {},
   "start_time": "2024-11-25T13:42:25.370479",
   "version": "2.6.0"
  }
 },
 "nbformat": 4,
 "nbformat_minor": 5
}
